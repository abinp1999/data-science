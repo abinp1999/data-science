{
 "cells": [
  {
   "cell_type": "code",
   "execution_count": null,
   "metadata": {},
   "outputs": [
    {
     "name": "stdout",
     "output_type": "stream",
     "text": [
      "select operation\n",
      "1.add\n",
      "2.substraction\n",
      "3.multiplication\n",
      "4.division\n",
      "enter choice(1/2/3/4): 4\n",
      "enter first number: 50\n",
      "enter second number: 10\n",
      "50.0 / 10.0 = 5.0\n",
      "let's do next calculation? (yes/no): yes\n",
      "enter choice(1/2/3/4): 4\n",
      "enter first number: 10\n",
      "enter second number: 0\n",
      "10.0 / 0.0 = errror\n",
      "let's do next calculation? (yes/no): yes\n"
     ]
    }
   ],
   "source": [
    "#python program for simple calculator\n",
    "def add(x,y):\n",
    "    return x+y\n",
    "\n",
    "def substract(x,y):\n",
    "    return x-y\n",
    "\n",
    "def multiply(x,y):\n",
    "    return x*y\n",
    "\n",
    "def divide(x,y):\n",
    "    if y==0:\n",
    "        return 'errror'\n",
    "    else:\n",
    "        return x/y\n",
    "\n",
    "print (\"select operation\")\n",
    "print(\"1.add\")\n",
    "print(\"2.substraction\")\n",
    "print(\"3.multiplication\")\n",
    "print(\"4.division\")\n",
    "while True :\n",
    "            choice=input(\"enter choice(1/2/3/4): \")\n",
    "            if choice in('1','2','3','4'):\n",
    "                num1 = float(input(\"enter first number: \"))\n",
    "                num2 = float(input(\"enter second number: \"))\n",
    "                if choice == '1':\n",
    "                    print(num1, \"+\" ,num2, \"=\",add(num1,num2))\n",
    "                elif choice == '2':\n",
    "                        print(num1,\"-\",num2,\"=\",substract(num1,num2))\n",
    "                elif choice == '3':\n",
    "                            print(num1,\"*\",num2,\"=\",multiply(num1,num2))\n",
    "                elif choice == '4':\n",
    "                                    print(num1,\"/\",num2,\"=\",divide(num1,num2))\n",
    "                                    next_calculation=input(\"let's do next calculation? (yes/no): \")\n",
    "                elif next_calculation == \"no\":\n",
    "                                        break\n",
    "                else:\n",
    "                                        print(\"invalid input\")"
   ]
  },
  {
   "cell_type": "code",
   "execution_count": null,
   "metadata": {
    "collapsed": true
   },
   "outputs": [],
   "source": []
  },
  {
   "cell_type": "code",
   "execution_count": null,
   "metadata": {
    "collapsed": true
   },
   "outputs": [],
   "source": []
  }
 ],
 "metadata": {
  "kernelspec": {
   "display_name": "Python 3",
   "language": "python",
   "name": "python3"
  }
 },
 "nbformat": 4,
 "nbformat_minor": 2
}
